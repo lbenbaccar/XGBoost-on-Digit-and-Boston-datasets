{
 "cells": [
  {
   "cell_type": "code",
   "execution_count": 1,
   "metadata": {},
   "outputs": [],
   "source": [
    "from sklearn.datasets import load_digits, load_boston\n",
    "from sklearn.model_selection import train_test_split\n",
    "import numpy as np\n",
    "import matplotlib.pyplot as plt\n",
    "import xgboost as xgb\n",
    "from sklearn.model_selection import cross_val_score, KFold\n",
    "%matplotlib inline"
   ]
  },
  {
   "cell_type": "markdown",
   "metadata": {},
   "source": [
    "# Import digits data and visualize digits\n"
   ]
  },
  {
   "cell_type": "code",
   "execution_count": 2,
   "metadata": {},
   "outputs": [],
   "source": [
    "digits = load_digits()"
   ]
  },
  {
   "cell_type": "code",
   "execution_count": 3,
   "metadata": {},
   "outputs": [
    {
     "name": "stdout",
     "output_type": "stream",
     "text": [
      "(1797, 64)\n"
     ]
    }
   ],
   "source": [
    "print(digits.data.shape)"
   ]
  },
  {
   "cell_type": "code",
   "execution_count": 4,
   "metadata": {},
   "outputs": [],
   "source": [
    "images = np.reshape(digits.data, (digits.data.shape[0], 8, 8))/16.0\n",
    "y = digits.target"
   ]
  },
  {
   "cell_type": "code",
   "execution_count": 5,
   "metadata": {},
   "outputs": [
    {
     "data": {
      "image/png": "[encoded data removed]",
      "text/plain": [
       "<Figure size 1080x288 with 20 Axes>"
      ]
     },
     "metadata": {
      "needs_background": "light"
     },
     "output_type": "display_data"
    }
   ],
   "source": [
    "\n",
    "fig, ax = plt.subplots(2,10)\n",
    "fig.set_figwidth(15)\n",
    "nums = np.random.randint(0, len(images), 10)\n",
    "for i, n in enumerate(nums):\n",
    "    ax[0][i].set_title(str(y[n]))\n",
    "    ax[0][i].imshow(images[n])\n",
    "nums = np.random.randint(0, len(images), 10)\n",
    "for i, n in enumerate(nums):\n",
    "    ax[1][i].set_title(str(y[n]))\n",
    "    ax[1][i].imshow(images[n])\n",
    "plt.show()"
   ]
  },
  {
   "cell_type": "markdown",
   "metadata": {},
   "source": [
    "# Use cross validation to find best max depth parameter"
   ]
  },
  {
   "cell_type": "code",
   "execution_count": 6,
   "metadata": {},
   "outputs": [],
   "source": [
    "X = np.array(digits.data)\n",
    "y = digits.target"
   ]
  },
  {
   "cell_type": "code",
   "execution_count": 7,
   "metadata": {},
   "outputs": [
    {
     "name": "stdout",
     "output_type": "stream",
     "text": [
      "2: 0.90372750\n",
      "3: 0.93656425\n",
      "4: 0.94991310\n",
      "5: 0.94046555\n",
      "6: 0.94769398\n",
      "7: 0.94713532\n",
      "8: 0.94602731\n",
      "9: 0.94877095\n",
      "10: 0.95158908\n"
     ]
    }
   ],
   "source": [
    "results = []\n",
    "\n",
    "for depth in range(2,11):\n",
    "    result = 0\n",
    "    param_list = [(\"max_depth\", depth), (\"objective\", \"multi:softmax\"), (\"eval_metric\", \"merror\"), (\"num_class\", 10)]\n",
    "    kfold = KFold(n_splits=10, shuffle=True)\n",
    "    for train_index, test_index in kfold.split(X):\n",
    "        X_train_xgb = xgb.DMatrix(X[train_index], label=y[train_index])\n",
    "        boosted_tree = xgb.train(param_list, X_train_xgb)\n",
    "        result += np.sum(y[test_index] == boosted_tree.predict(xgb.DMatrix(X[test_index])))/len(y[test_index])\n",
    "        \n",
    "    result = result/10\n",
    "    print('%s: %.8f' %(depth, result))\n",
    "    results.append(result)"
   ]
  },
  {
   "cell_type": "code",
   "execution_count": 8,
   "metadata": {},
   "outputs": [
    {
     "data": {
      "text/plain": [
       "[<matplotlib.lines.Line2D at 0x23427702340>]"
      ]
     },
     "execution_count": 8,
     "metadata": {},
     "output_type": "execute_result"
    },
    {
     "data": {
      "image/png": "[encoded data removed]",
      "text/plain": [
       "<Figure size 432x288 with 1 Axes>"
      ]
     },
     "metadata": {
      "needs_background": "light"
     },
     "output_type": "display_data"
    }
   ],
   "source": [
    "plt.plot(range(2,11), results)"
   ]
  },
  {
   "cell_type": "markdown",
   "metadata": {},
   "source": [
    "# Use cross validation to find best eta parameter\n"
   ]
  },
  {
   "cell_type": "code",
   "execution_count": 9,
   "metadata": {},
   "outputs": [
    {
     "name": "stdout",
     "output_type": "stream",
     "text": [
      "0.1: 0.93045313\n",
      "0.2: 0.94771260\n",
      "0.3: 0.94547486\n",
      "0.4: 0.94658287\n",
      "0.5: 0.95378957\n",
      "0.6: 0.94993482\n",
      "0.7: 0.95269708\n",
      "0.8: 0.95770950\n",
      "0.9: 0.95327436\n",
      "1.0: 0.95549659\n"
     ]
    }
   ],
   "source": [
    "results = []\n",
    "\n",
    "for eta in np.linspace(0.1,1, 10):\n",
    "    result = 0\n",
    "    param_list = [(\"eta\", eta), (\"objective\", \"multi:softmax\"), (\"eval_metric\", \"merror\"), (\"num_class\", 10)]\n",
    "    kfold = KFold(n_splits=10, shuffle=True)\n",
    "    for train_index, test_index in kfold.split(X):\n",
    "        X_train_xgb = xgb.DMatrix(X[train_index], label=y[train_index])\n",
    "        boosted_tree = xgb.train(param_list, X_train_xgb)\n",
    "        result += np.sum(y[test_index] == boosted_tree.predict(xgb.DMatrix(X[test_index])))/len(y[test_index])\n",
    "        \n",
    "    result = result/10\n",
    "    print('%.1f: %.8f' %(eta, result))\n",
    "    results.append(result)"
   ]
  },
  {
   "cell_type": "code",
   "execution_count": 10,
   "metadata": {},
   "outputs": [
    {
     "data": {
      "text/plain": [
       "[<matplotlib.lines.Line2D at 0x23427761c40>]"
      ]
     },
     "execution_count": 10,
     "metadata": {},
     "output_type": "execute_result"
    },
    {
     "data": {
      "image/png": "[encoded data removed]",
      "text/plain": [
       "<Figure size 432x288 with 1 Axes>"
      ]
     },
     "metadata": {
      "needs_background": "light"
     },
     "output_type": "display_data"
    }
   ],
   "source": [
    "plt.plot(np.linspace(0.1,1, 10), results)"
   ]
  },
  {
   "cell_type": "markdown",
   "metadata": {},
   "source": [
    "# Use cross validation to find best subsample parameter"
   ]
  },
  {
   "cell_type": "code",
   "execution_count": 11,
   "metadata": {},
   "outputs": [
    {
     "name": "stdout",
     "output_type": "stream",
     "text": [
      "0.1: 0.90984792\n",
      "0.2: 0.92766915\n",
      "0.3: 0.94658908\n",
      "0.4: 0.94432030\n",
      "0.5: 0.94270019\n",
      "0.6: 0.94494413\n",
      "0.7: 0.95047796\n",
      "0.8: 0.95268777\n",
      "0.9: 0.95104904\n",
      "1.0: 0.94990689\n"
     ]
    }
   ],
   "source": [
    "results = []\n",
    "\n",
    "for subsample in np.linspace(0.1,1, 10):\n",
    "    result = 0\n",
    "    param_list = [(\"subsample\", subsample), (\"objective\", \"multi:softmax\"), (\"eval_metric\", \"merror\"), (\"num_class\", 10)]\n",
    "    kfold = KFold(n_splits=10, shuffle=True)\n",
    "    for train_index, test_index in kfold.split(X):\n",
    "        X_train_xgb = xgb.DMatrix(X[train_index], label=y[train_index])\n",
    "        boosted_tree = xgb.train(param_list, X_train_xgb)\n",
    "        result += np.sum(y[test_index] == boosted_tree.predict(xgb.DMatrix(X[test_index])))/len(y[test_index])\n",
    "        \n",
    "    result = result/10\n",
    "    print('%.1f: %.8f' %(subsample, result))\n",
    "    results.append(result)"
   ]
  },
  {
   "cell_type": "code",
   "execution_count": 12,
   "metadata": {},
   "outputs": [
    {
     "data": {
      "text/plain": [
       "[<matplotlib.lines.Line2D at 0x234277b1e20>]"
      ]
     },
     "execution_count": 12,
     "metadata": {},
     "output_type": "execute_result"
    },
    {
     "data": {
      "image/png": "[encoded data removed]",
      "text/plain": [
       "<Figure size 432x288 with 1 Axes>"
      ]
     },
     "metadata": {
      "needs_background": "light"
     },
     "output_type": "display_data"
    }
   ],
   "source": [
    "plt.plot(np.linspace(0.1,1, 10), results)"
   ]
  },
  {
   "cell_type": "markdown",
   "metadata": {},
   "source": [
    "# Load boston data \n"
   ]
  },
  {
   "cell_type": "code",
   "execution_count": 13,
   "metadata": {},
   "outputs": [],
   "source": [
    "boston_data = load_boston()"
   ]
  },
  {
   "cell_type": "code",
   "execution_count": 14,
   "metadata": {},
   "outputs": [
    {
     "name": "stdout",
     "output_type": "stream",
     "text": [
      ".. _boston_dataset:\n",
      "\n",
      "Boston house prices dataset\n",
      "---------------------------\n",
      "\n",
      "**Data Set Characteristics:**  \n",
      "\n",
      "    :Number of Instances: 506 \n",
      "\n",
      "    :Number of Attributes: 13 numeric/categorical predictive. Median Value (attribute 14) is usually the target.\n",
      "\n",
      "    :Attribute Information (in order):\n",
      "        - CRIM     per capita crime rate by town\n",
      "        - ZN       proportion of residential land zoned for lots over 25,000 sq.ft.\n",
      "        - INDUS    proportion of non-retail business acres per town\n",
      "        - CHAS     Charles River dummy variable (= 1 if tract bounds river; 0 otherwise)\n",
      "        - NOX      nitric oxides concentration (parts per 10 million)\n",
      "        - RM       average number of rooms per dwelling\n",
      "        - AGE      proportion of owner-occupied units built prior to 1940\n",
      "        - DIS      weighted distances to five Boston employment centres\n",
      "        - RAD      index of accessibility to radial highways\n",
      "        - TAX      full-value property-tax rate per $10,000\n",
      "        - PTRATIO  pupil-teacher ratio by town\n",
      "        - B        1000(Bk - 0.63)^2 where Bk is the proportion of blacks by town\n",
      "        - LSTAT    % lower status of the population\n",
      "        - MEDV     Median value of owner-occupied homes in $1000's\n",
      "\n",
      "    :Missing Attribute Values: None\n",
      "\n",
      "    :Creator: Harrison, D. and Rubinfeld, D.L.\n",
      "\n",
      "This is a copy of UCI ML housing dataset.\n",
      "https://archive.ics.uci.edu/ml/machine-learning-databases/housing/\n",
      "\n",
      "\n",
      "This dataset was taken from the StatLib library which is maintained at Carnegie Mellon University.\n",
      "\n",
      "The Boston house-price data of Harrison, D. and Rubinfeld, D.L. 'Hedonic\n",
      "prices and the demand for clean air', J. Environ. Economics & Management,\n",
      "vol.5, 81-102, 1978.   Used in Belsley, Kuh & Welsch, 'Regression diagnostics\n",
      "...', Wiley, 1980.   N.B. Various transformations are used in the table on\n",
      "pages 244-261 of the latter.\n",
      "\n",
      "The Boston house-price data has been used in many machine learning papers that address regression\n",
      "problems.   \n",
      "     \n",
      ".. topic:: References\n",
      "\n",
      "   - Belsley, Kuh & Welsch, 'Regression diagnostics: Identifying Influential Data and Sources of Collinearity', Wiley, 1980. 244-261.\n",
      "   - Quinlan,R. (1993). Combining Instance-Based and Model-Based Learning. In Proceedings on the Tenth International Conference of Machine Learning, 236-243, University of Massachusetts, Amherst. Morgan Kaufmann.\n",
      "\n"
     ]
    }
   ],
   "source": [
    "print(boston_data.DESCR)"
   ]
  },
  {
   "cell_type": "markdown",
   "metadata": {},
   "source": [
    "# Split boston data in train test and fit regression using cross validation"
   ]
  },
  {
   "cell_type": "code",
   "execution_count": 15,
   "metadata": {},
   "outputs": [],
   "source": [
    "X = np.array(boston_data.data)\n",
    "y = boston_data.target"
   ]
  },
  {
   "cell_type": "code",
   "execution_count": 16,
   "metadata": {},
   "outputs": [],
   "source": [
    "X_train, X_test, y_train, y_test = train_test_split(X, y, train_size=0.8)"
   ]
  },
  {
   "cell_type": "code",
   "execution_count": 17,
   "metadata": {},
   "outputs": [],
   "source": [
    "X_train_xgb = xgb.DMatrix(X_train, label=y_train)\n",
    "\n",
    "params = {\"objective\":\"reg:squarederror\",'colsample_bytree': 0.3,'learning_rate': 0.1,\n",
    "                'max_depth': 5, 'alpha': 10}\n",
    "\n",
    "cv_results = xgb.cv(dtrain=X_train_xgb, params=params, nfold=3,\n",
    "                    num_boost_round=50, early_stopping_rounds=10,metrics=\"rmse\")"
   ]
  },
  {
   "cell_type": "code",
   "execution_count": 18,
   "metadata": {},
   "outputs": [
    {
     "data": {
      "text/html": [
       "<div>\n",
       "<style scoped>\n",
       "    .dataframe tbody tr th:only-of-type {\n",
       "        vertical-align: middle;\n",
       "    }\n",
       "\n",
       "    .dataframe tbody tr th {\n",
       "        vertical-align: top;\n",
       "    }\n",
       "\n",
       "    .dataframe thead th {\n",
       "        text-align: right;\n",
       "    }\n",
       "</style>\n",
       "<table border=\"1\" class=\"dataframe\">\n",
       "  <thead>\n",
       "    <tr style=\"text-align: right;\">\n",
       "      <th></th>\n",
       "      <th>train-rmse-mean</th>\n",
       "      <th>train-rmse-std</th>\n",
       "      <th>test-rmse-mean</th>\n",
       "      <th>test-rmse-std</th>\n",
       "    </tr>\n",
       "  </thead>\n",
       "  <tbody>\n",
       "    <tr>\n",
       "      <th>0</th>\n",
       "      <td>21.750415</td>\n",
       "      <td>0.255242</td>\n",
       "      <td>21.758516</td>\n",
       "      <td>0.570829</td>\n",
       "    </tr>\n",
       "    <tr>\n",
       "      <th>1</th>\n",
       "      <td>19.784468</td>\n",
       "      <td>0.241202</td>\n",
       "      <td>19.833527</td>\n",
       "      <td>0.590184</td>\n",
       "    </tr>\n",
       "    <tr>\n",
       "      <th>2</th>\n",
       "      <td>18.060952</td>\n",
       "      <td>0.200957</td>\n",
       "      <td>18.148340</td>\n",
       "      <td>0.652259</td>\n",
       "    </tr>\n",
       "    <tr>\n",
       "      <th>3</th>\n",
       "      <td>16.479444</td>\n",
       "      <td>0.222687</td>\n",
       "      <td>16.607985</td>\n",
       "      <td>0.670038</td>\n",
       "    </tr>\n",
       "    <tr>\n",
       "      <th>4</th>\n",
       "      <td>15.089577</td>\n",
       "      <td>0.216047</td>\n",
       "      <td>15.276566</td>\n",
       "      <td>0.684570</td>\n",
       "    </tr>\n",
       "    <tr>\n",
       "      <th>5</th>\n",
       "      <td>13.813152</td>\n",
       "      <td>0.235376</td>\n",
       "      <td>14.095571</td>\n",
       "      <td>0.693490</td>\n",
       "    </tr>\n",
       "    <tr>\n",
       "      <th>6</th>\n",
       "      <td>12.624731</td>\n",
       "      <td>0.214732</td>\n",
       "      <td>12.894951</td>\n",
       "      <td>0.693702</td>\n",
       "    </tr>\n",
       "    <tr>\n",
       "      <th>7</th>\n",
       "      <td>11.651014</td>\n",
       "      <td>0.200230</td>\n",
       "      <td>11.981562</td>\n",
       "      <td>0.706061</td>\n",
       "    </tr>\n",
       "    <tr>\n",
       "      <th>8</th>\n",
       "      <td>10.681437</td>\n",
       "      <td>0.180673</td>\n",
       "      <td>11.055834</td>\n",
       "      <td>0.674449</td>\n",
       "    </tr>\n",
       "    <tr>\n",
       "      <th>9</th>\n",
       "      <td>9.883753</td>\n",
       "      <td>0.171522</td>\n",
       "      <td>10.280988</td>\n",
       "      <td>0.716243</td>\n",
       "    </tr>\n",
       "    <tr>\n",
       "      <th>10</th>\n",
       "      <td>9.167080</td>\n",
       "      <td>0.108246</td>\n",
       "      <td>9.576862</td>\n",
       "      <td>0.736200</td>\n",
       "    </tr>\n",
       "    <tr>\n",
       "      <th>11</th>\n",
       "      <td>8.524526</td>\n",
       "      <td>0.129218</td>\n",
       "      <td>8.969135</td>\n",
       "      <td>0.764947</td>\n",
       "    </tr>\n",
       "    <tr>\n",
       "      <th>12</th>\n",
       "      <td>7.916312</td>\n",
       "      <td>0.123249</td>\n",
       "      <td>8.396491</td>\n",
       "      <td>0.711282</td>\n",
       "    </tr>\n",
       "    <tr>\n",
       "      <th>13</th>\n",
       "      <td>7.459215</td>\n",
       "      <td>0.128326</td>\n",
       "      <td>7.963510</td>\n",
       "      <td>0.702264</td>\n",
       "    </tr>\n",
       "    <tr>\n",
       "      <th>14</th>\n",
       "      <td>7.032900</td>\n",
       "      <td>0.119089</td>\n",
       "      <td>7.585887</td>\n",
       "      <td>0.678389</td>\n",
       "    </tr>\n",
       "    <tr>\n",
       "      <th>15</th>\n",
       "      <td>6.646296</td>\n",
       "      <td>0.128793</td>\n",
       "      <td>7.257777</td>\n",
       "      <td>0.691766</td>\n",
       "    </tr>\n",
       "    <tr>\n",
       "      <th>16</th>\n",
       "      <td>6.181821</td>\n",
       "      <td>0.103470</td>\n",
       "      <td>6.863829</td>\n",
       "      <td>0.659073</td>\n",
       "    </tr>\n",
       "    <tr>\n",
       "      <th>17</th>\n",
       "      <td>5.839193</td>\n",
       "      <td>0.096247</td>\n",
       "      <td>6.571568</td>\n",
       "      <td>0.681634</td>\n",
       "    </tr>\n",
       "    <tr>\n",
       "      <th>18</th>\n",
       "      <td>5.516483</td>\n",
       "      <td>0.045168</td>\n",
       "      <td>6.285632</td>\n",
       "      <td>0.659432</td>\n",
       "    </tr>\n",
       "    <tr>\n",
       "      <th>19</th>\n",
       "      <td>5.255609</td>\n",
       "      <td>0.067245</td>\n",
       "      <td>6.059601</td>\n",
       "      <td>0.674369</td>\n",
       "    </tr>\n",
       "    <tr>\n",
       "      <th>20</th>\n",
       "      <td>4.966029</td>\n",
       "      <td>0.038002</td>\n",
       "      <td>5.811455</td>\n",
       "      <td>0.613946</td>\n",
       "    </tr>\n",
       "    <tr>\n",
       "      <th>21</th>\n",
       "      <td>4.770060</td>\n",
       "      <td>0.064167</td>\n",
       "      <td>5.665459</td>\n",
       "      <td>0.622832</td>\n",
       "    </tr>\n",
       "    <tr>\n",
       "      <th>22</th>\n",
       "      <td>4.536774</td>\n",
       "      <td>0.100515</td>\n",
       "      <td>5.472186</td>\n",
       "      <td>0.622381</td>\n",
       "    </tr>\n",
       "    <tr>\n",
       "      <th>23</th>\n",
       "      <td>4.361916</td>\n",
       "      <td>0.130317</td>\n",
       "      <td>5.345057</td>\n",
       "      <td>0.640973</td>\n",
       "    </tr>\n",
       "    <tr>\n",
       "      <th>24</th>\n",
       "      <td>4.211416</td>\n",
       "      <td>0.143089</td>\n",
       "      <td>5.231865</td>\n",
       "      <td>0.650205</td>\n",
       "    </tr>\n",
       "    <tr>\n",
       "      <th>25</th>\n",
       "      <td>4.032295</td>\n",
       "      <td>0.152463</td>\n",
       "      <td>5.111605</td>\n",
       "      <td>0.621699</td>\n",
       "    </tr>\n",
       "    <tr>\n",
       "      <th>26</th>\n",
       "      <td>3.846818</td>\n",
       "      <td>0.147346</td>\n",
       "      <td>4.970205</td>\n",
       "      <td>0.588051</td>\n",
       "    </tr>\n",
       "    <tr>\n",
       "      <th>27</th>\n",
       "      <td>3.706932</td>\n",
       "      <td>0.103970</td>\n",
       "      <td>4.855633</td>\n",
       "      <td>0.546387</td>\n",
       "    </tr>\n",
       "    <tr>\n",
       "      <th>28</th>\n",
       "      <td>3.583568</td>\n",
       "      <td>0.102982</td>\n",
       "      <td>4.756576</td>\n",
       "      <td>0.541611</td>\n",
       "    </tr>\n",
       "    <tr>\n",
       "      <th>29</th>\n",
       "      <td>3.466035</td>\n",
       "      <td>0.116870</td>\n",
       "      <td>4.683567</td>\n",
       "      <td>0.525984</td>\n",
       "    </tr>\n",
       "    <tr>\n",
       "      <th>30</th>\n",
       "      <td>3.378476</td>\n",
       "      <td>0.116299</td>\n",
       "      <td>4.619410</td>\n",
       "      <td>0.523093</td>\n",
       "    </tr>\n",
       "    <tr>\n",
       "      <th>31</th>\n",
       "      <td>3.278835</td>\n",
       "      <td>0.134926</td>\n",
       "      <td>4.562820</td>\n",
       "      <td>0.513284</td>\n",
       "    </tr>\n",
       "    <tr>\n",
       "      <th>32</th>\n",
       "      <td>3.189477</td>\n",
       "      <td>0.119973</td>\n",
       "      <td>4.506800</td>\n",
       "      <td>0.510970</td>\n",
       "    </tr>\n",
       "    <tr>\n",
       "      <th>33</th>\n",
       "      <td>3.120571</td>\n",
       "      <td>0.133558</td>\n",
       "      <td>4.465695</td>\n",
       "      <td>0.505364</td>\n",
       "    </tr>\n",
       "    <tr>\n",
       "      <th>34</th>\n",
       "      <td>3.042604</td>\n",
       "      <td>0.148068</td>\n",
       "      <td>4.420845</td>\n",
       "      <td>0.496531</td>\n",
       "    </tr>\n",
       "    <tr>\n",
       "      <th>35</th>\n",
       "      <td>2.988376</td>\n",
       "      <td>0.168215</td>\n",
       "      <td>4.397031</td>\n",
       "      <td>0.506380</td>\n",
       "    </tr>\n",
       "    <tr>\n",
       "      <th>36</th>\n",
       "      <td>2.912771</td>\n",
       "      <td>0.146147</td>\n",
       "      <td>4.347925</td>\n",
       "      <td>0.492908</td>\n",
       "    </tr>\n",
       "    <tr>\n",
       "      <th>37</th>\n",
       "      <td>2.855514</td>\n",
       "      <td>0.150165</td>\n",
       "      <td>4.321965</td>\n",
       "      <td>0.499513</td>\n",
       "    </tr>\n",
       "    <tr>\n",
       "      <th>38</th>\n",
       "      <td>2.793937</td>\n",
       "      <td>0.155054</td>\n",
       "      <td>4.293379</td>\n",
       "      <td>0.485349</td>\n",
       "    </tr>\n",
       "    <tr>\n",
       "      <th>39</th>\n",
       "      <td>2.744712</td>\n",
       "      <td>0.149760</td>\n",
       "      <td>4.275123</td>\n",
       "      <td>0.473848</td>\n",
       "    </tr>\n",
       "    <tr>\n",
       "      <th>40</th>\n",
       "      <td>2.681569</td>\n",
       "      <td>0.139451</td>\n",
       "      <td>4.242075</td>\n",
       "      <td>0.465210</td>\n",
       "    </tr>\n",
       "    <tr>\n",
       "      <th>41</th>\n",
       "      <td>2.622613</td>\n",
       "      <td>0.126947</td>\n",
       "      <td>4.197658</td>\n",
       "      <td>0.453327</td>\n",
       "    </tr>\n",
       "    <tr>\n",
       "      <th>42</th>\n",
       "      <td>2.582731</td>\n",
       "      <td>0.121585</td>\n",
       "      <td>4.177932</td>\n",
       "      <td>0.439083</td>\n",
       "    </tr>\n",
       "    <tr>\n",
       "      <th>43</th>\n",
       "      <td>2.546819</td>\n",
       "      <td>0.135002</td>\n",
       "      <td>4.165651</td>\n",
       "      <td>0.433792</td>\n",
       "    </tr>\n",
       "    <tr>\n",
       "      <th>44</th>\n",
       "      <td>2.507175</td>\n",
       "      <td>0.143101</td>\n",
       "      <td>4.151230</td>\n",
       "      <td>0.427835</td>\n",
       "    </tr>\n",
       "    <tr>\n",
       "      <th>45</th>\n",
       "      <td>2.481394</td>\n",
       "      <td>0.146874</td>\n",
       "      <td>4.139264</td>\n",
       "      <td>0.428197</td>\n",
       "    </tr>\n",
       "    <tr>\n",
       "      <th>46</th>\n",
       "      <td>2.439058</td>\n",
       "      <td>0.136061</td>\n",
       "      <td>4.127135</td>\n",
       "      <td>0.427862</td>\n",
       "    </tr>\n",
       "    <tr>\n",
       "      <th>47</th>\n",
       "      <td>2.397111</td>\n",
       "      <td>0.127691</td>\n",
       "      <td>4.104119</td>\n",
       "      <td>0.418708</td>\n",
       "    </tr>\n",
       "    <tr>\n",
       "      <th>48</th>\n",
       "      <td>2.365574</td>\n",
       "      <td>0.129160</td>\n",
       "      <td>4.085551</td>\n",
       "      <td>0.419790</td>\n",
       "    </tr>\n",
       "    <tr>\n",
       "      <th>49</th>\n",
       "      <td>2.327782</td>\n",
       "      <td>0.129121</td>\n",
       "      <td>4.072757</td>\n",
       "      <td>0.412276</td>\n",
       "    </tr>\n",
       "  </tbody>\n",
       "</table>\n",
       "</div>"
      ],
      "text/plain": [
       "    train-rmse-mean  train-rmse-std  test-rmse-mean  test-rmse-std\n",
       "0         21.750415        0.255242       21.758516       0.570829\n",
       "1         19.784468        0.241202       19.833527       0.590184\n",
       "2         18.060952        0.200957       18.148340       0.652259\n",
       "3         16.479444        0.222687       16.607985       0.670038\n",
       "4         15.089577        0.216047       15.276566       0.684570\n",
       "5         13.813152        0.235376       14.095571       0.693490\n",
       "6         12.624731        0.214732       12.894951       0.693702\n",
       "7         11.651014        0.200230       11.981562       0.706061\n",
       "8         10.681437        0.180673       11.055834       0.674449\n",
       "9          9.883753        0.171522       10.280988       0.716243\n",
       "10         9.167080        0.108246        9.576862       0.736200\n",
       "11         8.524526        0.129218        8.969135       0.764947\n",
       "12         7.916312        0.123249        8.396491       0.711282\n",
       "13         7.459215        0.128326        7.963510       0.702264\n",
       "14         7.032900        0.119089        7.585887       0.678389\n",
       "15         6.646296        0.128793        7.257777       0.691766\n",
       "16         6.181821        0.103470        6.863829       0.659073\n",
       "17         5.839193        0.096247        6.571568       0.681634\n",
       "18         5.516483        0.045168        6.285632       0.659432\n",
       "19         5.255609        0.067245        6.059601       0.674369\n",
       "20         4.966029        0.038002        5.811455       0.613946\n",
       "21         4.770060        0.064167        5.665459       0.622832\n",
       "22         4.536774        0.100515        5.472186       0.622381\n",
       "23         4.361916        0.130317        5.345057       0.640973\n",
       "24         4.211416        0.143089        5.231865       0.650205\n",
       "25         4.032295        0.152463        5.111605       0.621699\n",
       "26         3.846818        0.147346        4.970205       0.588051\n",
       "27         3.706932        0.103970        4.855633       0.546387\n",
       "28         3.583568        0.102982        4.756576       0.541611\n",
       "29         3.466035        0.116870        4.683567       0.525984\n",
       "30         3.378476        0.116299        4.619410       0.523093\n",
       "31         3.278835        0.134926        4.562820       0.513284\n",
       "32         3.189477        0.119973        4.506800       0.510970\n",
       "33         3.120571        0.133558        4.465695       0.505364\n",
       "34         3.042604        0.148068        4.420845       0.496531\n",
       "35         2.988376        0.168215        4.397031       0.506380\n",
       "36         2.912771        0.146147        4.347925       0.492908\n",
       "37         2.855514        0.150165        4.321965       0.499513\n",
       "38         2.793937        0.155054        4.293379       0.485349\n",
       "39         2.744712        0.149760        4.275123       0.473848\n",
       "40         2.681569        0.139451        4.242075       0.465210\n",
       "41         2.622613        0.126947        4.197658       0.453327\n",
       "42         2.582731        0.121585        4.177932       0.439083\n",
       "43         2.546819        0.135002        4.165651       0.433792\n",
       "44         2.507175        0.143101        4.151230       0.427835\n",
       "45         2.481394        0.146874        4.139264       0.428197\n",
       "46         2.439058        0.136061        4.127135       0.427862\n",
       "47         2.397111        0.127691        4.104119       0.418708\n",
       "48         2.365574        0.129160        4.085551       0.419790\n",
       "49         2.327782        0.129121        4.072757       0.412276"
      ]
     },
     "execution_count": 18,
     "metadata": {},
     "output_type": "execute_result"
    }
   ],
   "source": [
    "cv_results"
   ]
  },
  {
   "cell_type": "markdown",
   "metadata": {},
   "source": [
    "# Print important features"
   ]
  },
  {
   "cell_type": "code",
   "execution_count": 19,
   "metadata": {},
   "outputs": [
    {
     "data": {
      "image/png": "[encoded data removed]",
      "text/plain": [
       "<Figure size 432x288 with 1 Axes>"
      ]
     },
     "metadata": {
      "needs_background": "light"
     },
     "output_type": "display_data"
    }
   ],
   "source": [
    "import pandas as pd\n",
    "\n",
    "X_df = pd.DataFrame(X_train)\n",
    "X_df.columns = boston_data.feature_names\n",
    "\n",
    "X_train_xgb = xgb.DMatrix(X_df, label=y_train)\n",
    "\n",
    "xg_model = xgb.train(params=params, dtrain=X_train_xgb)\n",
    "\n",
    "xgb.plot_importance(xg_model)\n",
    "plt.rcParams['figure.figsize'] = [10, 10]\n",
    "plt.show()"
   ]
  }
 ],
 "metadata": {
  "kernelspec": {
   "display_name": "Python 3",
   "language": "python",
   "name": "python3"
  },
  "language_info": {
   "codemirror_mode": {
    "name": "ipython",
    "version": 3
   },
   "file_extension": ".py",
   "mimetype": "text/x-python",
   "name": "python",
   "nbconvert_exporter": "python",
   "pygments_lexer": "ipython3",
   "version": "3.7.9"
  }
 },
 "nbformat": 4,
 "nbformat_minor": 4
}
